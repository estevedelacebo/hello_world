{
 "cells": [
  {
   "cell_type": "markdown",
   "metadata": {},
   "source": [
    "<a class=\"anchor\" id=\"0\"></a>\n",
    "# **Arbres de classificació amb Python**\n",
    "\n",
    "\n"
   ]
  },
  {
   "cell_type": "markdown",
   "metadata": {},
   "source": [
    "<a class=\"anchor\" id=\"0.1\"></a>\n",
    "# **Índex**\n",
    "\n",
    "\n",
    "\n",
    "1.\t[Importació de les llibreries i el dataset](#1)\n",
    "2.\t[Exploració de les dades](#2)\n",
    "3.\t[Separació de la matriu de caracerístiques X i el vector target Y](#3)\n",
    "4.\t[Separació de les dades en un conjunt d'entrenament i un de test](#4)\n",
    "5.\t[Feature engineering](#5)\n",
    "6.\t[Decision Tree classifier with criterion entropy](#6)\n",
    "7.\t[Matriu de confusió](#7)\n",
    "8.\t[Altres mesures de qualitat](#8)\n",
    "9.\t[Detecció de l'overfitting o sobreadjustament](#9)\n",
    "\n",
    "\n"
   ]
  },
  {
   "cell_type": "markdown",
   "metadata": {},
   "source": [
    "# **1. Importació de les llibreries i el dataset** <a class=\"anchor\" id=\"1\"></a>\n",
    "\n",
    "[Índex](#0.1)"
   ]
  },
  {
   "cell_type": "code",
   "execution_count": 1,
   "metadata": {
    "execution": {
     "iopub.execute_input": "2023-11-14T11:03:39.584018Z",
     "iopub.status.busy": "2023-11-14T11:03:39.583575Z",
     "iopub.status.idle": "2023-11-14T11:03:41.188900Z",
     "shell.execute_reply": "2023-11-14T11:03:41.187349Z",
     "shell.execute_reply.started": "2023-11-14T11:03:39.583957Z"
    }
   },
   "outputs": [
    {
     "name": "stdout",
     "output_type": "stream",
     "text": [
      "/kaggle/input/dades-cotxes/car_evaluation.csv\n"
     ]
    }
   ],
   "source": [
    "\n",
    "import numpy as np # linear algebra\n",
    "import pandas as pd # data processing, CSV file I/O (e.g. pd.read_csv)\n",
    "import matplotlib.pyplot as plt # data visualization\n",
    "import seaborn as sns # statistical data visualization\n",
    "%matplotlib inline\n",
    "import warnings\n",
    "\n",
    "warnings.filterwarnings('ignore')\n",
    "\n",
    "import os\n",
    "for dirname, _, filenames in os.walk('/kaggle/input'):\n",
    "    for filename in filenames:\n",
    "        print(os.path.join(dirname, filename))"
   ]
  },
  {
   "cell_type": "code",
   "execution_count": 2,
   "metadata": {
    "execution": {
     "iopub.execute_input": "2023-11-14T11:03:43.778299Z",
     "iopub.status.busy": "2023-11-14T11:03:43.777909Z",
     "iopub.status.idle": "2023-11-14T11:03:43.798449Z",
     "shell.execute_reply": "2023-11-14T11:03:43.797561Z",
     "shell.execute_reply.started": "2023-11-14T11:03:43.778241Z"
    }
   },
   "outputs": [],
   "source": [
    "dades = '/kaggle/input/dades-cotxes/car_evaluation.csv'\n",
    "\n",
    "df = pd.read_csv(dades)"
   ]
  },
  {
   "cell_type": "markdown",
   "metadata": {},
   "source": [
    "# **2. Exploració de les dades** <a class=\"anchor\" id=\"2\"></a>\n",
    "\n",
    "[Índex](#0.1)\n"
   ]
  },
  {
   "cell_type": "code",
   "execution_count": 3,
   "metadata": {
    "execution": {
     "iopub.execute_input": "2023-11-14T11:03:56.358835Z",
     "iopub.status.busy": "2023-11-14T11:03:56.358293Z",
     "iopub.status.idle": "2023-11-14T11:03:56.397050Z",
     "shell.execute_reply": "2023-11-14T11:03:56.395661Z",
     "shell.execute_reply.started": "2023-11-14T11:03:56.358778Z"
    }
   },
   "outputs": [
    {
     "name": "stdout",
     "output_type": "stream",
     "text": [
      "(1728, 7)\n"
     ]
    },
    {
     "data": {
      "text/html": [
       "<div>\n",
       "<style scoped>\n",
       "    .dataframe tbody tr th:only-of-type {\n",
       "        vertical-align: middle;\n",
       "    }\n",
       "\n",
       "    .dataframe tbody tr th {\n",
       "        vertical-align: top;\n",
       "    }\n",
       "\n",
       "    .dataframe thead th {\n",
       "        text-align: right;\n",
       "    }\n",
       "</style>\n",
       "<table border=\"1\" class=\"dataframe\">\n",
       "  <thead>\n",
       "    <tr style=\"text-align: right;\">\n",
       "      <th></th>\n",
       "      <th>buying</th>\n",
       "      <th>maint</th>\n",
       "      <th>doors</th>\n",
       "      <th>persons</th>\n",
       "      <th>lug_boot</th>\n",
       "      <th>safety</th>\n",
       "      <th>class</th>\n",
       "    </tr>\n",
       "  </thead>\n",
       "  <tbody>\n",
       "    <tr>\n",
       "      <th>0</th>\n",
       "      <td>vhigh</td>\n",
       "      <td>vhigh</td>\n",
       "      <td>2</td>\n",
       "      <td>2</td>\n",
       "      <td>small</td>\n",
       "      <td>low</td>\n",
       "      <td>unacc</td>\n",
       "    </tr>\n",
       "    <tr>\n",
       "      <th>1</th>\n",
       "      <td>vhigh</td>\n",
       "      <td>vhigh</td>\n",
       "      <td>2</td>\n",
       "      <td>2</td>\n",
       "      <td>small</td>\n",
       "      <td>med</td>\n",
       "      <td>unacc</td>\n",
       "    </tr>\n",
       "    <tr>\n",
       "      <th>2</th>\n",
       "      <td>vhigh</td>\n",
       "      <td>vhigh</td>\n",
       "      <td>2</td>\n",
       "      <td>2</td>\n",
       "      <td>small</td>\n",
       "      <td>high</td>\n",
       "      <td>unacc</td>\n",
       "    </tr>\n",
       "    <tr>\n",
       "      <th>3</th>\n",
       "      <td>vhigh</td>\n",
       "      <td>vhigh</td>\n",
       "      <td>2</td>\n",
       "      <td>2</td>\n",
       "      <td>med</td>\n",
       "      <td>low</td>\n",
       "      <td>unacc</td>\n",
       "    </tr>\n",
       "    <tr>\n",
       "      <th>4</th>\n",
       "      <td>vhigh</td>\n",
       "      <td>vhigh</td>\n",
       "      <td>2</td>\n",
       "      <td>2</td>\n",
       "      <td>med</td>\n",
       "      <td>med</td>\n",
       "      <td>unacc</td>\n",
       "    </tr>\n",
       "  </tbody>\n",
       "</table>\n",
       "</div>"
      ],
      "text/plain": [
       "  buying  maint doors persons lug_boot safety  class\n",
       "0  vhigh  vhigh     2       2    small    low  unacc\n",
       "1  vhigh  vhigh     2       2    small    med  unacc\n",
       "2  vhigh  vhigh     2       2    small   high  unacc\n",
       "3  vhigh  vhigh     2       2      med    low  unacc\n",
       "4  vhigh  vhigh     2       2      med    med  unacc"
      ]
     },
     "execution_count": 3,
     "metadata": {},
     "output_type": "execute_result"
    }
   ],
   "source": [
    "print(df.shape)\n",
    "df.head()"
   ]
  },
  {
   "cell_type": "code",
   "execution_count": 4,
   "metadata": {
    "execution": {
     "iopub.execute_input": "2023-11-13T17:53:50.963190Z",
     "iopub.status.busy": "2023-11-13T17:53:50.962801Z",
     "iopub.status.idle": "2023-11-13T17:53:51.020585Z",
     "shell.execute_reply": "2023-11-13T17:53:51.019400Z",
     "shell.execute_reply.started": "2023-11-13T17:53:50.963124Z"
    }
   },
   "outputs": [
    {
     "data": {
      "text/html": [
       "<div>\n",
       "<style scoped>\n",
       "    .dataframe tbody tr th:only-of-type {\n",
       "        vertical-align: middle;\n",
       "    }\n",
       "\n",
       "    .dataframe tbody tr th {\n",
       "        vertical-align: top;\n",
       "    }\n",
       "\n",
       "    .dataframe thead th {\n",
       "        text-align: right;\n",
       "    }\n",
       "</style>\n",
       "<table border=\"1\" class=\"dataframe\">\n",
       "  <thead>\n",
       "    <tr style=\"text-align: right;\">\n",
       "      <th></th>\n",
       "      <th>buying</th>\n",
       "      <th>maint</th>\n",
       "      <th>doors</th>\n",
       "      <th>persons</th>\n",
       "      <th>lug_boot</th>\n",
       "      <th>safety</th>\n",
       "      <th>class</th>\n",
       "    </tr>\n",
       "  </thead>\n",
       "  <tbody>\n",
       "    <tr>\n",
       "      <th>count</th>\n",
       "      <td>1728</td>\n",
       "      <td>1728</td>\n",
       "      <td>1728</td>\n",
       "      <td>1728</td>\n",
       "      <td>1728</td>\n",
       "      <td>1728</td>\n",
       "      <td>1728</td>\n",
       "    </tr>\n",
       "    <tr>\n",
       "      <th>unique</th>\n",
       "      <td>4</td>\n",
       "      <td>4</td>\n",
       "      <td>4</td>\n",
       "      <td>3</td>\n",
       "      <td>3</td>\n",
       "      <td>3</td>\n",
       "      <td>4</td>\n",
       "    </tr>\n",
       "    <tr>\n",
       "      <th>top</th>\n",
       "      <td>vhigh</td>\n",
       "      <td>vhigh</td>\n",
       "      <td>3</td>\n",
       "      <td>4</td>\n",
       "      <td>big</td>\n",
       "      <td>low</td>\n",
       "      <td>unacc</td>\n",
       "    </tr>\n",
       "    <tr>\n",
       "      <th>freq</th>\n",
       "      <td>432</td>\n",
       "      <td>432</td>\n",
       "      <td>432</td>\n",
       "      <td>576</td>\n",
       "      <td>576</td>\n",
       "      <td>576</td>\n",
       "      <td>1210</td>\n",
       "    </tr>\n",
       "  </tbody>\n",
       "</table>\n",
       "</div>"
      ],
      "text/plain": [
       "       buying  maint doors persons lug_boot safety  class\n",
       "count    1728   1728  1728    1728     1728   1728   1728\n",
       "unique      4      4     4       3        3      3      4\n",
       "top     vhigh  vhigh     3       4      big    low  unacc\n",
       "freq      432    432   432     576      576    576   1210"
      ]
     },
     "execution_count": 4,
     "metadata": {},
     "output_type": "execute_result"
    }
   ],
   "source": [
    "df.describe()"
   ]
  },
  {
   "cell_type": "markdown",
   "metadata": {},
   "source": [
    "### Distribució de les freqüències dels valors de les variables\n",
    "\n"
   ]
  },
  {
   "cell_type": "code",
   "execution_count": 5,
   "metadata": {
    "execution": {
     "iopub.execute_input": "2023-11-13T17:53:57.369535Z",
     "iopub.status.busy": "2023-11-13T17:53:57.369041Z",
     "iopub.status.idle": "2023-11-13T17:53:57.395232Z",
     "shell.execute_reply": "2023-11-13T17:53:57.393573Z",
     "shell.execute_reply.started": "2023-11-13T17:53:57.369462Z"
    }
   },
   "outputs": [
    {
     "name": "stdout",
     "output_type": "stream",
     "text": [
      "vhigh    432\n",
      "low      432\n",
      "med      432\n",
      "high     432\n",
      "Name: buying, dtype: int64\n",
      "vhigh    432\n",
      "low      432\n",
      "med      432\n",
      "high     432\n",
      "Name: maint, dtype: int64\n",
      "3        432\n",
      "5more    432\n",
      "4        432\n",
      "2        432\n",
      "Name: doors, dtype: int64\n",
      "4       576\n",
      "2       576\n",
      "more    576\n",
      "Name: persons, dtype: int64\n",
      "big      576\n",
      "med      576\n",
      "small    576\n",
      "Name: lug_boot, dtype: int64\n",
      "low     576\n",
      "med     576\n",
      "high    576\n",
      "Name: safety, dtype: int64\n",
      "unacc    1210\n",
      "acc       384\n",
      "good       69\n",
      "vgood      65\n",
      "Name: class, dtype: int64\n"
     ]
    }
   ],
   "source": [
    "for col in df.columns: \n",
    "    print(df[col].value_counts())\n"
   ]
  },
  {
   "cell_type": "code",
   "execution_count": 6,
   "metadata": {
    "execution": {
     "iopub.execute_input": "2023-11-13T17:54:02.041827Z",
     "iopub.status.busy": "2023-11-13T17:54:02.041426Z",
     "iopub.status.idle": "2023-11-13T17:54:02.054327Z",
     "shell.execute_reply": "2023-11-13T17:54:02.052932Z",
     "shell.execute_reply.started": "2023-11-13T17:54:02.041776Z"
    }
   },
   "outputs": [
    {
     "data": {
      "text/plain": [
       "buying      0\n",
       "maint       0\n",
       "doors       0\n",
       "persons     0\n",
       "lug_boot    0\n",
       "safety      0\n",
       "class       0\n",
       "dtype: int64"
      ]
     },
     "execution_count": 6,
     "metadata": {},
     "output_type": "execute_result"
    }
   ],
   "source": [
    "# Mirem si ha ha valors nuls\n",
    "\n",
    "df.isnull().sum()"
   ]
  },
  {
   "cell_type": "markdown",
   "metadata": {},
   "source": [
    "# **3. Separació de la matriu de caracerístiques X i el vector target y** <a class=\"anchor\" id=\"3\"></a>\n",
    "\n",
    "[Índex](#0.1)"
   ]
  },
  {
   "cell_type": "markdown",
   "metadata": {},
   "source": [
    "# **4. Separació de les dades en un conjunt d'entrenament i un de test** <a class=\"anchor\" id=\"4\"></a>\n",
    "\n",
    "[Índex](#0.1)"
   ]
  },
  {
   "cell_type": "code",
   "execution_count": 7,
   "metadata": {
    "execution": {
     "iopub.execute_input": "2023-11-14T11:04:44.058856Z",
     "iopub.status.busy": "2023-11-14T11:04:44.058302Z",
     "iopub.status.idle": "2023-11-14T11:04:44.065091Z",
     "shell.execute_reply": "2023-11-14T11:04:44.064333Z",
     "shell.execute_reply.started": "2023-11-14T11:04:44.058608Z"
    }
   },
   "outputs": [],
   "source": [
    "X = df.drop(['class'], axis=1)\n",
    "\n",
    "y = df['class']"
   ]
  },
  {
   "cell_type": "code",
   "execution_count": 8,
   "metadata": {
    "execution": {
     "iopub.execute_input": "2023-11-14T11:05:09.846261Z",
     "iopub.status.busy": "2023-11-14T11:05:09.845879Z",
     "iopub.status.idle": "2023-11-14T11:05:11.226515Z",
     "shell.execute_reply": "2023-11-14T11:05:11.224761Z",
     "shell.execute_reply.started": "2023-11-14T11:05:09.846172Z"
    }
   },
   "outputs": [
    {
     "data": {
      "text/plain": [
       "((1157, 6), (571, 6))"
      ]
     },
     "execution_count": 8,
     "metadata": {},
     "output_type": "execute_result"
    }
   ],
   "source": [
    "from sklearn.model_selection import train_test_split\n",
    "\n",
    "X_train, X_test, y_train, y_test = train_test_split(X, y, test_size = 0.33, random_state = 42)\n",
    "X_train.shape, X_test.shape"
   ]
  },
  {
   "cell_type": "markdown",
   "metadata": {},
   "source": [
    "# **5. Feature Engineering** <a class=\"anchor\" id=\"5\"></a>\n",
    "\n",
    "[Índex](#0.1)\n",
    "\n",
    "\n",
    "**Feature Engineering** o enginyeria de característiques o atributs, és el procés de transformació de dades en brut en característiques útils que ens ajuden a entendre millor el nostre model i augmentar el seu poder predictiu. En aquest exemple, i ja que els arbres de classificació a l'sklearn tenen la limitació de que nomès poden traballar amb dades numèriques, hem de codificar els atributs categòrics"
   ]
  },
  {
   "cell_type": "code",
   "execution_count": 9,
   "metadata": {
    "execution": {
     "iopub.execute_input": "2023-11-14T11:05:12.754949Z",
     "iopub.status.busy": "2023-11-14T11:05:12.754503Z",
     "iopub.status.idle": "2023-11-14T11:05:12.814095Z",
     "shell.execute_reply": "2023-11-14T11:05:12.812929Z",
     "shell.execute_reply.started": "2023-11-14T11:05:12.754872Z"
    }
   },
   "outputs": [],
   "source": [
    "import category_encoders as ce\n",
    "\n",
    "encoder = ce.OrdinalEncoder(cols=['buying', 'maint', 'doors', 'persons', 'lug_boot', 'safety'])\n",
    "\n",
    "\n",
    "X_train = encoder.fit_transform(X_train)\n",
    "\n",
    "X_test = encoder.transform(X_test)"
   ]
  },
  {
   "cell_type": "code",
   "execution_count": 10,
   "metadata": {
    "execution": {
     "iopub.execute_input": "2023-11-14T11:05:16.787074Z",
     "iopub.status.busy": "2023-11-14T11:05:16.786153Z",
     "iopub.status.idle": "2023-11-14T11:05:16.807470Z",
     "shell.execute_reply": "2023-11-14T11:05:16.806742Z",
     "shell.execute_reply.started": "2023-11-14T11:05:16.786996Z"
    }
   },
   "outputs": [
    {
     "data": {
      "text/html": [
       "<div>\n",
       "<style scoped>\n",
       "    .dataframe tbody tr th:only-of-type {\n",
       "        vertical-align: middle;\n",
       "    }\n",
       "\n",
       "    .dataframe tbody tr th {\n",
       "        vertical-align: top;\n",
       "    }\n",
       "\n",
       "    .dataframe thead th {\n",
       "        text-align: right;\n",
       "    }\n",
       "</style>\n",
       "<table border=\"1\" class=\"dataframe\">\n",
       "  <thead>\n",
       "    <tr style=\"text-align: right;\">\n",
       "      <th></th>\n",
       "      <th>buying</th>\n",
       "      <th>maint</th>\n",
       "      <th>doors</th>\n",
       "      <th>persons</th>\n",
       "      <th>lug_boot</th>\n",
       "      <th>safety</th>\n",
       "    </tr>\n",
       "  </thead>\n",
       "  <tbody>\n",
       "    <tr>\n",
       "      <th>48</th>\n",
       "      <td>1</td>\n",
       "      <td>1</td>\n",
       "      <td>1</td>\n",
       "      <td>1</td>\n",
       "      <td>1</td>\n",
       "      <td>1</td>\n",
       "    </tr>\n",
       "    <tr>\n",
       "      <th>468</th>\n",
       "      <td>2</td>\n",
       "      <td>1</td>\n",
       "      <td>1</td>\n",
       "      <td>2</td>\n",
       "      <td>2</td>\n",
       "      <td>1</td>\n",
       "    </tr>\n",
       "    <tr>\n",
       "      <th>155</th>\n",
       "      <td>1</td>\n",
       "      <td>2</td>\n",
       "      <td>1</td>\n",
       "      <td>1</td>\n",
       "      <td>2</td>\n",
       "      <td>2</td>\n",
       "    </tr>\n",
       "    <tr>\n",
       "      <th>1721</th>\n",
       "      <td>3</td>\n",
       "      <td>3</td>\n",
       "      <td>2</td>\n",
       "      <td>1</td>\n",
       "      <td>2</td>\n",
       "      <td>2</td>\n",
       "    </tr>\n",
       "    <tr>\n",
       "      <th>1208</th>\n",
       "      <td>4</td>\n",
       "      <td>3</td>\n",
       "      <td>3</td>\n",
       "      <td>1</td>\n",
       "      <td>2</td>\n",
       "      <td>2</td>\n",
       "    </tr>\n",
       "  </tbody>\n",
       "</table>\n",
       "</div>"
      ],
      "text/plain": [
       "      buying  maint  doors  persons  lug_boot  safety\n",
       "48         1      1      1        1         1       1\n",
       "468        2      1      1        2         2       1\n",
       "155        1      2      1        1         2       2\n",
       "1721       3      3      2        1         2       2\n",
       "1208       4      3      3        1         2       2"
      ]
     },
     "execution_count": 10,
     "metadata": {},
     "output_type": "execute_result"
    }
   ],
   "source": [
    "X_train.head()"
   ]
  },
  {
   "cell_type": "code",
   "execution_count": 11,
   "metadata": {
    "execution": {
     "iopub.execute_input": "2023-11-14T11:05:20.515446Z",
     "iopub.status.busy": "2023-11-14T11:05:20.514916Z",
     "iopub.status.idle": "2023-11-14T11:05:20.527975Z",
     "shell.execute_reply": "2023-11-14T11:05:20.526990Z",
     "shell.execute_reply.started": "2023-11-14T11:05:20.515393Z"
    }
   },
   "outputs": [
    {
     "data": {
      "text/html": [
       "<div>\n",
       "<style scoped>\n",
       "    .dataframe tbody tr th:only-of-type {\n",
       "        vertical-align: middle;\n",
       "    }\n",
       "\n",
       "    .dataframe tbody tr th {\n",
       "        vertical-align: top;\n",
       "    }\n",
       "\n",
       "    .dataframe thead th {\n",
       "        text-align: right;\n",
       "    }\n",
       "</style>\n",
       "<table border=\"1\" class=\"dataframe\">\n",
       "  <thead>\n",
       "    <tr style=\"text-align: right;\">\n",
       "      <th></th>\n",
       "      <th>buying</th>\n",
       "      <th>maint</th>\n",
       "      <th>doors</th>\n",
       "      <th>persons</th>\n",
       "      <th>lug_boot</th>\n",
       "      <th>safety</th>\n",
       "    </tr>\n",
       "  </thead>\n",
       "  <tbody>\n",
       "    <tr>\n",
       "      <th>599</th>\n",
       "      <td>2</td>\n",
       "      <td>2</td>\n",
       "      <td>4</td>\n",
       "      <td>3</td>\n",
       "      <td>1</td>\n",
       "      <td>2</td>\n",
       "    </tr>\n",
       "    <tr>\n",
       "      <th>1201</th>\n",
       "      <td>4</td>\n",
       "      <td>3</td>\n",
       "      <td>3</td>\n",
       "      <td>2</td>\n",
       "      <td>1</td>\n",
       "      <td>3</td>\n",
       "    </tr>\n",
       "    <tr>\n",
       "      <th>628</th>\n",
       "      <td>2</td>\n",
       "      <td>2</td>\n",
       "      <td>2</td>\n",
       "      <td>3</td>\n",
       "      <td>3</td>\n",
       "      <td>3</td>\n",
       "    </tr>\n",
       "    <tr>\n",
       "      <th>1498</th>\n",
       "      <td>3</td>\n",
       "      <td>2</td>\n",
       "      <td>2</td>\n",
       "      <td>2</td>\n",
       "      <td>1</td>\n",
       "      <td>3</td>\n",
       "    </tr>\n",
       "    <tr>\n",
       "      <th>1263</th>\n",
       "      <td>4</td>\n",
       "      <td>3</td>\n",
       "      <td>4</td>\n",
       "      <td>1</td>\n",
       "      <td>1</td>\n",
       "      <td>1</td>\n",
       "    </tr>\n",
       "  </tbody>\n",
       "</table>\n",
       "</div>"
      ],
      "text/plain": [
       "      buying  maint  doors  persons  lug_boot  safety\n",
       "599        2      2      4        3         1       2\n",
       "1201       4      3      3        2         1       3\n",
       "628        2      2      2        3         3       3\n",
       "1498       3      2      2        2         1       3\n",
       "1263       4      3      4        1         1       1"
      ]
     },
     "execution_count": 11,
     "metadata": {},
     "output_type": "execute_result"
    }
   ],
   "source": [
    "X_test.head()"
   ]
  },
  {
   "cell_type": "markdown",
   "metadata": {},
   "source": [
    "# **6. Arbre de classificació amb criteri entropia** <a class=\"anchor\" id=\"6\"></a>\n",
    "\n",
    "[Índex](#0.1)"
   ]
  },
  {
   "cell_type": "code",
   "execution_count": 12,
   "metadata": {
    "execution": {
     "iopub.execute_input": "2023-11-14T11:57:06.571232Z",
     "iopub.status.busy": "2023-11-14T11:57:06.570856Z",
     "iopub.status.idle": "2023-11-14T11:57:06.575602Z",
     "shell.execute_reply": "2023-11-14T11:57:06.574635Z",
     "shell.execute_reply.started": "2023-11-14T11:57:06.571154Z"
    }
   },
   "outputs": [],
   "source": [
    "from sklearn.tree import DecisionTreeClassifier\n",
    "car_class_tree = DecisionTreeClassifier(criterion='entropy', max_depth=4, random_state=0)"
   ]
  },
  {
   "cell_type": "code",
   "execution_count": 13,
   "metadata": {
    "execution": {
     "iopub.execute_input": "2023-11-14T11:57:24.107392Z",
     "iopub.status.busy": "2023-11-14T11:57:24.106975Z",
     "iopub.status.idle": "2023-11-14T11:57:24.119445Z",
     "shell.execute_reply": "2023-11-14T11:57:24.118259Z",
     "shell.execute_reply.started": "2023-11-14T11:57:24.107323Z"
    }
   },
   "outputs": [
    {
     "data": {
      "text/plain": [
       "DecisionTreeClassifier(class_weight=None, criterion='entropy', max_depth=4,\n",
       "                       max_features=None, max_leaf_nodes=None,\n",
       "                       min_impurity_decrease=0.0, min_impurity_split=None,\n",
       "                       min_samples_leaf=1, min_samples_split=2,\n",
       "                       min_weight_fraction_leaf=0.0, presort=False,\n",
       "                       random_state=0, splitter='best')"
      ]
     },
     "execution_count": 13,
     "metadata": {},
     "output_type": "execute_result"
    }
   ],
   "source": [
    "\n",
    "car_class_tree.fit(X_train, y_train)"
   ]
  },
  {
   "cell_type": "code",
   "execution_count": null,
   "metadata": {
    "execution": {
     "iopub.execute_input": "2023-11-14T11:54:49.318502Z",
     "iopub.status.busy": "2023-11-14T11:54:49.317888Z",
     "iopub.status.idle": "2023-11-14T11:54:49.333771Z",
     "shell.execute_reply": "2023-11-14T11:54:49.332616Z",
     "shell.execute_reply.started": "2023-11-14T11:54:49.318422Z"
    }
   },
   "outputs": [],
   "source": []
  },
  {
   "cell_type": "markdown",
   "metadata": {},
   "source": [
    "### Predicció de les casses al conjunt de prova"
   ]
  },
  {
   "cell_type": "code",
   "execution_count": 14,
   "metadata": {
    "execution": {
     "iopub.execute_input": "2023-11-14T11:57:33.125083Z",
     "iopub.status.busy": "2023-11-14T11:57:33.124732Z",
     "iopub.status.idle": "2023-11-14T11:57:33.133317Z",
     "shell.execute_reply": "2023-11-14T11:57:33.131864Z",
     "shell.execute_reply.started": "2023-11-14T11:57:33.125028Z"
    }
   },
   "outputs": [
    {
     "name": "stdout",
     "output_type": "stream",
     "text": [
      "['unacc', 'acc', 'unacc', 'acc', 'unacc', 'acc', 'unacc', 'unacc', 'unacc', 'unacc', 'vgood', 'acc', 'unacc', 'unacc', 'unacc']\n",
      "['unacc' 'good' 'unacc' 'acc' 'unacc' 'acc' 'unacc' 'unacc' 'acc' 'unacc'\n",
      " 'acc' 'good' 'acc' 'unacc' 'unacc']\n"
     ]
    }
   ],
   "source": [
    "y_pred = car_class_tree.predict(X_test)\n",
    "print(list(y_test)[:15])\n",
    "print(y_pred[:15])"
   ]
  },
  {
   "cell_type": "markdown",
   "metadata": {},
   "source": [
    "### Comparem accuracy de l'arbre pels conjunts d'entrenament i test"
   ]
  },
  {
   "cell_type": "code",
   "execution_count": 15,
   "metadata": {},
   "outputs": [
    {
     "name": "stdout",
     "output_type": "stream",
     "text": [
      "Training set score: 0.8341\n",
      "Test set score: 0.8424\n"
     ]
    }
   ],
   "source": [
    "print('Training set score: {:.4f}'.format(car_class_tree.score(X_train, y_train)))\n",
    "\n",
    "print('Test set score: {:.4f}'.format(car_class_tree.score(X_test, y_test)))"
   ]
  },
  {
   "cell_type": "markdown",
   "metadata": {},
   "source": [
    "### Visualització de l'arbre de classificació"
   ]
  },
  {
   "cell_type": "code",
   "execution_count": 16,
   "metadata": {
    "execution": {
     "iopub.execute_input": "2023-11-14T12:03:43.458548Z",
     "iopub.status.busy": "2023-11-14T12:03:43.458138Z",
     "iopub.status.idle": "2023-11-14T12:03:43.964253Z",
     "shell.execute_reply": "2023-11-14T12:03:43.963050Z",
     "shell.execute_reply.started": "2023-11-14T12:03:43.458482Z"
    }
   },
   "outputs": [
    {
     "data": {
      "image/png": "[encoded data removed]",
      "text/plain": [
       "<Figure size 864x576 with 1 Axes>"
      ]
     },
     "metadata": {
      "needs_background": "light"
     },
     "output_type": "display_data"
    }
   ],
   "source": [
    "from sklearn import tree\n",
    "\n",
    "plt.figure(figsize=(12,8))\n",
    "classes = [\"acc\",\"good\",\"unacc\", \"vgood\"]\n",
    "features = X_train.columns\n",
    "tree.plot_tree(car_class_tree.fit(X_train, y_train),\n",
    "               feature_names = features, class_names=classes,\n",
    "              filled = True, rounded = True) \n",
    "plt.show()"
   ]
  },
  {
   "cell_type": "markdown",
   "metadata": {},
   "source": [
    "# **7. Matriu de confusió** <a class=\"anchor\" id=\"7\"></a>\n",
    "\n",
    "[Índex](#0.1)"
   ]
  },
  {
   "cell_type": "code",
   "execution_count": 17,
   "metadata": {
    "execution": {
     "iopub.execute_input": "2023-11-14T11:10:22.140629Z",
     "iopub.status.busy": "2023-11-14T11:10:22.140181Z",
     "iopub.status.idle": "2023-11-14T11:10:22.159385Z",
     "shell.execute_reply": "2023-11-14T11:10:22.158131Z",
     "shell.execute_reply.started": "2023-11-14T11:10:22.140569Z"
    }
   },
   "outputs": [
    {
     "name": "stdout",
     "output_type": "stream",
     "text": [
      "Confusion matrix\n",
      "\n",
      " [[105  24   0   0]\n",
      " [  0  20   0   0]\n",
      " [ 40   1 356   0]\n",
      " [  3  22   0   0]]\n"
     ]
    }
   ],
   "source": [
    "from sklearn.metrics import confusion_matrix\n",
    "\n",
    "y_pred = car_class_tree.predict(X_test)\n",
    "cm = confusion_matrix(y_test, y_pred)\n",
    "\n",
    "print('Confusion matrix\\n\\n', cm)\n",
    "\n"
   ]
  },
  {
   "cell_type": "markdown",
   "metadata": {},
   "source": [
    "# **8. Classification Report. Atres mesures de qualitat** <a class=\"anchor\" id=\"8\"></a>\n",
    "\n",
    "[Índex](#0.1)\n",
    "\n",
    "car_class_tree = DecisionTreeClassifier(criterion='entropy', max_depth=4, random_state=0)\n",
    "car_class_tree.fit(X_train, y_train)Un **classification report** és una altra manera d'avaluar el rendiment del model de classificació. Mostra les puntuacions de **precission**, **recall**, **f1** i **support** per al model."
   ]
  },
  {
   "cell_type": "code",
   "execution_count": 18,
   "metadata": {
    "execution": {
     "iopub.execute_input": "2023-11-14T11:14:50.470420Z",
     "iopub.status.busy": "2023-11-14T11:14:50.469914Z",
     "iopub.status.idle": "2023-11-14T11:14:50.494237Z",
     "shell.execute_reply": "2023-11-14T11:14:50.493409Z",
     "shell.execute_reply.started": "2023-11-14T11:14:50.470340Z"
    },
    "scrolled": true
   },
   "outputs": [
    {
     "name": "stdout",
     "output_type": "stream",
     "text": [
      "              precision    recall  f1-score   support\n",
      "\n",
      "         acc       0.71      0.81      0.76       129\n",
      "        good       0.30      1.00      0.46        20\n",
      "       unacc       1.00      0.90      0.95       397\n",
      "       vgood       0.00      0.00      0.00        25\n",
      "\n",
      "    accuracy                           0.84       571\n",
      "   macro avg       0.50      0.68      0.54       571\n",
      "weighted avg       0.87      0.84      0.84       571\n",
      "\n"
     ]
    }
   ],
   "source": [
    "from sklearn.metrics import classification_report\n",
    "\n",
    "print(classification_report(y_test, y_pred))"
   ]
  },
  {
   "cell_type": "markdown",
   "metadata": {},
   "source": [
    "# **9. Detecció de l'overfitting o sobreadjustament** <a class=\"anchor\" id=\"9\"></a>\n",
    "\n",
    "[Índex](#0.1)\n",
    "\n",
    "Calculem l'**accuracy** del model depenent de la profunditat de l'arbre per tal de detectar si es produeix overfitting"
   ]
  },
  {
   "cell_type": "code",
   "execution_count": 19,
   "metadata": {
    "execution": {
     "iopub.execute_input": "2023-11-14T11:42:36.779418Z",
     "iopub.status.busy": "2023-11-14T11:42:36.778880Z",
     "iopub.status.idle": "2023-11-14T11:42:37.224934Z",
     "shell.execute_reply": "2023-11-14T11:42:37.223813Z",
     "shell.execute_reply.started": "2023-11-14T11:42:36.779367Z"
    }
   },
   "outputs": [
    {
     "data": {
      "image/png": "[encoded data removed]",
      "text/plain": [
       "<Figure size 720x360 with 1 Axes>"
      ]
     },
     "metadata": {
      "needs_background": "light"
     },
     "output_type": "display_data"
    }
   ],
   "source": [
    "train_scores = []\n",
    "test_scores = []\n",
    "depths = list(range(1,20))\n",
    "for depth in depths:\n",
    "    car_class_tree = DecisionTreeClassifier(criterion='entropy', max_depth=depth, random_state=42)\n",
    "    car_class_tree.fit(X_train, y_train)\n",
    "    train_score = car_class_tree.score(X_train, y_train)\n",
    "    test_score = car_class_tree.score(X_test, y_test)\n",
    "    train_scores.append(train_score)\n",
    "    test_scores.append(test_score)\n",
    "\n",
    "plt.figure(figsize=(10,5))\n",
    "plt.plot(depths, train_scores, marker='o', label='Train Score')\n",
    "plt.plot(depths, test_scores, marker='o', label='Test Score')\n",
    "plt.xlabel(\"Profunditat de l'arbre\")\n",
    "plt.ylabel('Puntuació')\n",
    "plt.title(\"Puntuació d'entrenament i test en funció de la profunditat de l'arbre\")\n",
    "plt.legend()\n",
    "plt.show()\n"
   ]
  },
  {
   "cell_type": "markdown",
   "metadata": {},
   "source": [
    "Veiem que a partir de profunditat 9-10 l'**accuracy** amb el conjunt de test comença a disminuir, mentre que amb el conjunt d'entrenament continua augmentant. A partir d'aquest punt, doncs, es produeix **overffiting**"
   ]
  }
 ],
 "metadata": {
  "kernelspec": {
   "display_name": "Python 3",
   "language": "python",
   "name": "python3"
  },
  "language_info": {
   "codemirror_mode": {
    "name": "ipython",
    "version": 3
   },
   "file_extension": ".py",
   "mimetype": "text/x-python",
   "name": "python",
   "nbconvert_exporter": "python",
   "pygments_lexer": "ipython3",
   "version": "3.6.6"
  }
 },
 "nbformat": 4,
 "nbformat_minor": 4
}
